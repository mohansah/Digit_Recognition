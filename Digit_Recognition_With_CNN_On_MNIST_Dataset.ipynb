{
 "cells": [
  {
   "cell_type": "code",
   "execution_count": 1,
   "metadata": {},
   "outputs": [
    {
     "name": "stderr",
     "output_type": "stream",
     "text": [
      "C:\\Users\\MOHAN KUMAR SAH\\.conda\\envs\\python3.5\\lib\\site-packages\\h5py\\__init__.py:36: FutureWarning: Conversion of the second argument of issubdtype from `float` to `np.floating` is deprecated. In future, it will be treated as `np.float64 == np.dtype(float).type`.\n",
      "  from ._conv import register_converters as _register_converters\n",
      "Using TensorFlow backend.\n"
     ]
    }
   ],
   "source": [
    "# importing necessary libraries\n",
    "\n",
    "import numpy as np\n",
    "from keras.models import Sequential\n",
    "from keras.layers import Dense, Conv2D, Flatten, MaxPooling2D\n",
    "import matplotlib.pyplot as plt\n",
    "from keras.datasets import mnist\n",
    "from keras.utils import to_categorical"
   ]
  },
  {
   "cell_type": "code",
   "execution_count": 2,
   "metadata": {},
   "outputs": [
    {
     "name": "stdout",
     "output_type": "stream",
     "text": [
      "(60000, 28, 28)\n",
      "(10000, 28, 28)\n",
      "(60000,)\n",
      "(10000,)\n"
     ]
    }
   ],
   "source": [
    "# load mnist data and split into train and test sets\n",
    "\n",
    "(x_train, y_train), (x_test, y_test) = mnist.load_data()\n",
    "\n",
    "# printing the dimenstions\n",
    "print(x_train.shape)\n",
    "print(x_test.shape)\n",
    "print(y_train.shape)\n",
    "print(y_test.shape)"
   ]
  },
  {
   "cell_type": "code",
   "execution_count": 3,
   "metadata": {},
   "outputs": [
    {
     "data": {
      "text/plain": [
       "<matplotlib.image.AxesImage at 0x2305f158630>"
      ]
     },
     "execution_count": 3,
     "metadata": {},
     "output_type": "execute_result"
    },
    {
     "data": {
      "image/png": "[encoded data removed]",
      "text/plain": [
       "<Figure size 432x288 with 1 Axes>"
      ]
     },
     "metadata": {},
     "output_type": "display_data"
    }
   ],
   "source": [
    "# plot the first image in the dataset\n",
    "plt.imshow(x_train[0])"
   ]
  },
  {
   "cell_type": "code",
   "execution_count": 4,
   "metadata": {},
   "outputs": [
    {
     "data": {
      "text/plain": [
       "(28, 28)"
      ]
     },
     "execution_count": 4,
     "metadata": {},
     "output_type": "execute_result"
    }
   ],
   "source": [
    "#check image shape\n",
    "x_train[0].shape"
   ]
  },
  {
   "cell_type": "code",
   "execution_count": 5,
   "metadata": {},
   "outputs": [],
   "source": [
    "# reshape data to fit model\n",
    "x_train = x_train.reshape(60000,28,28,1)\n",
    "x_test = x_test.reshape(10000,28,28,1)"
   ]
  },
  {
   "cell_type": "code",
   "execution_count": 6,
   "metadata": {},
   "outputs": [
    {
     "data": {
      "text/plain": [
       "4"
      ]
     },
     "execution_count": 6,
     "metadata": {},
     "output_type": "execute_result"
    }
   ],
   "source": [
    "# observing the third value in the y_train\n",
    "y_train[2]"
   ]
  },
  {
   "cell_type": "code",
   "execution_count": 7,
   "metadata": {},
   "outputs": [
    {
     "data": {
      "text/plain": [
       "array([0., 0., 0., 0., 1., 0., 0., 0., 0., 0.], dtype=float32)"
      ]
     },
     "execution_count": 7,
     "metadata": {},
     "output_type": "execute_result"
    }
   ],
   "source": [
    "# one-hot encode target column\n",
    "y_train = to_categorical(y_train)\n",
    "y_test = to_categorical(y_test)\n",
    "\n",
    "# observing the one-hot encoding of third value in the y_train\n",
    "y_train[2]"
   ]
  },
  {
   "cell_type": "code",
   "execution_count": 8,
   "metadata": {},
   "outputs": [],
   "source": [
    "# create model\n",
    "model = Sequential()\n",
    "\n",
    "# Add model layers\n",
    "\n",
    "# Layer 1 \n",
    "# Convolutional Layer\n",
    "model.add(Conv2D(64, kernel_size=3, activation='relu', input_shape=(28,28,1)))\n",
    "\n",
    "# Pooling Layer\n",
    "# We are using Max pooling\n",
    "model.add(MaxPooling2D((2, 2)))\n",
    "\n",
    "# Layer 2\n",
    "# Covoultinal Layer\n",
    "model.add(Conv2D(32, kernel_size=3, activation='relu'))\n",
    "\n",
    "# Pooling Layer\n",
    "# We are using Max pooling\n",
    "model.add(MaxPooling2D((2, 2)))\n",
    "\n",
    "# Flattening the output of layer 2 \n",
    "model.add(Flatten())\n",
    "\n",
    "# Output Layer\n",
    "# Dense layer\n",
    "model.add(Dense(10, activation='softmax'))"
   ]
  },
  {
   "cell_type": "markdown",
   "metadata": {},
   "source": [
    "1. The model type that we will be using is Sequential. Sequential is the easiest way to build a model in Keras. It allows you to build a model layer by layer.\n",
    "2. The ‘add()’ function is to add layers to our model.\n",
    "3. These are convolution layers that will deal with our input images, which are seen as 2-dimensional matrices. Add as many convolutinal layers until staisfied.\n",
    "4. 64 in the first layer and 32 in the second layer are the number of nodes in each layer. This number can be adjusted to be higher or lower, depending on the size of the dataset.\n",
    "5. Kernel size is the size of the filter matrix for our convolution. So a kernel size of 3 means we will have a 3x3 filter matrix.\n",
    "6. Activation is the activation function for the layer. The activation function we will be using for our first 2 layers is the ReLU, or Rectified Linear Activation. \n",
    "7. In between the Conv2D layers and the dense layer, there is a ‘Flatten’ layer. Flatten serves as a connection between the convolution and dense layers.\n",
    "8. ‘Dense’ is the layer type we will use in for our output layer. Dense is a standard layer type that is used in many cases for neural networks.\n",
    "9. We will have 10 nodes in our output layer, one for each possible outcome (0–9).\n",
    "10. The activation is ‘softmax’. Softmax makes the output sum up to 1 so the output can be interpreted as probabilities.The model will then make its prediction based on which option has the highest probability."
   ]
  },
  {
   "cell_type": "code",
   "execution_count": 9,
   "metadata": {},
   "outputs": [
    {
     "name": "stdout",
     "output_type": "stream",
     "text": [
      "_________________________________________________________________\n",
      "Layer (type)                 Output Shape              Param #   \n",
      "=================================================================\n",
      "conv2d_1 (Conv2D)            (None, 26, 26, 64)        640       \n",
      "_________________________________________________________________\n",
      "max_pooling2d_1 (MaxPooling2 (None, 13, 13, 64)        0         \n",
      "_________________________________________________________________\n",
      "conv2d_2 (Conv2D)            (None, 11, 11, 32)        18464     \n",
      "_________________________________________________________________\n",
      "max_pooling2d_2 (MaxPooling2 (None, 5, 5, 32)          0         \n",
      "_________________________________________________________________\n",
      "flatten_1 (Flatten)          (None, 800)               0         \n",
      "_________________________________________________________________\n",
      "dense_1 (Dense)              (None, 10)                8010      \n",
      "=================================================================\n",
      "Total params: 27,114\n",
      "Trainable params: 27,114\n",
      "Non-trainable params: 0\n",
      "_________________________________________________________________\n"
     ]
    }
   ],
   "source": [
    "model.summary()"
   ]
  },
  {
   "cell_type": "markdown",
   "metadata": {},
   "source": [
    "The summary is textual and includes information about:\n",
    "\n",
    "1. The layers and their order in the model.\n",
    "2. The output shape of each layer.\n",
    "3. The number of parameters (weights) in each layer.\n",
    "4. The total number of parameters (weights) in the model."
   ]
  },
  {
   "cell_type": "markdown",
   "metadata": {},
   "source": [
    "Next, we need to compile our model. Compiling the model takes three parameters: optimizer, loss and metrics."
   ]
  },
  {
   "cell_type": "code",
   "execution_count": 10,
   "metadata": {},
   "outputs": [],
   "source": [
    "# Compile model using accuracy as a measure of model performance\n",
    "model.compile(optimizer='adam', loss='categorical_crossentropy', metrics=['accuracy'])"
   ]
  },
  {
   "cell_type": "markdown",
   "metadata": {},
   "source": [
    "1. The optimizer controls the learning rate. We will be using ‘adam’ as our optmizer. Adam is generally a good optimizer to use for many cases. The adam optimizer adjusts the learning rate throughout training.\n",
    "2. The learning rate determines how fast the optimal weights for the model are calculated. A smaller learning rate may lead to more accurate weights (up to a certain point), but the time it takes to compute the weights will be longer.\n",
    "3. ‘categorical_crossentropy’ is used for our loss function. This is the most common choice for classification. A lower score indicates that the model is performing better.\n",
    "4. ‘accuracy’ metric  is used to see the accuracy score on the validation set when we train the model."
   ]
  },
  {
   "cell_type": "code",
   "execution_count": 11,
   "metadata": {},
   "outputs": [
    {
     "name": "stdout",
     "output_type": "stream",
     "text": [
      "Train on 60000 samples, validate on 10000 samples\n",
      "Epoch 1/3\n",
      "60000/60000 [==============================] - 148s 2ms/step - loss: 5.5121 - acc: 0.6374 - val_loss: 0.0883 - val_acc: 0.9738\n",
      "Epoch 2/3\n",
      "60000/60000 [==============================] - 143s 2ms/step - loss: 0.0774 - acc: 0.9765 - val_loss: 0.0626 - val_acc: 0.9820\n",
      "Epoch 3/3\n",
      "60000/60000 [==============================] - 141s 2ms/step - loss: 0.0580 - acc: 0.9829 - val_loss: 0.0568 - val_acc: 0.9831\n"
     ]
    },
    {
     "data": {
      "text/plain": [
       "<keras.callbacks.History at 0x2305bc1e5c0>"
      ]
     },
     "execution_count": 11,
     "metadata": {},
     "output_type": "execute_result"
    }
   ],
   "source": [
    "#train model\n",
    "model.fit(x_train, y_train, validation_data=(x_test, y_test), epochs=3)"
   ]
  },
  {
   "cell_type": "markdown",
   "metadata": {},
   "source": [
    "To train, we will use the ‘fit()’ function on our model with the following parameters: training data (x_train), target data (y_train), validation data, and the number of epochs.\n",
    "\n",
    "1. x_train: The training data consisting of only the independent factors\n",
    "2. y_train: The training data consisting of only the dependent factors\n",
    "3. validation_data: For our validation data, we will use the test set provided to us in our dataset, which we have split into x_test and y_test.\n",
    "4. epochs: one epoch stands for one complete training of the neural network with all samples."
   ]
  },
  {
   "cell_type": "code",
   "execution_count": 12,
   "metadata": {},
   "outputs": [
    {
     "data": {
      "text/plain": [
       "array([[3.43303511e-13, 1.59052285e-12, 7.50071720e-08, 5.57709079e-08,\n",
       "        1.62287623e-13, 8.41073322e-11, 4.00479401e-16, 9.99999523e-01,\n",
       "        1.39075480e-08, 3.22844528e-07],\n",
       "       [3.16314530e-09, 1.56293981e-06, 9.99998331e-01, 1.43289758e-09,\n",
       "        3.29917227e-09, 4.81324643e-14, 7.78726914e-08, 3.25795934e-15,\n",
       "        4.29942665e-10, 1.57295357e-12],\n",
       "       [1.66921801e-08, 9.99648809e-01, 1.34931520e-06, 4.32910412e-07,\n",
       "        3.15346202e-04, 6.19498124e-08, 4.88529338e-07, 3.24889106e-06,\n",
       "        2.99343701e-05, 3.75380182e-07],\n",
       "       [9.99990344e-01, 2.49662270e-13, 1.58150577e-08, 1.69406433e-10,\n",
       "        2.61728195e-09, 5.74710279e-10, 9.13567874e-06, 1.42809636e-11,\n",
       "        6.18484037e-08, 3.95100187e-07]], dtype=float32)"
      ]
     },
     "execution_count": 12,
     "metadata": {},
     "output_type": "execute_result"
    }
   ],
   "source": [
    "# Observing predictions for the first 3 images in the test set\n",
    "preds=model.predict(x_test[:4])\n",
    "preds"
   ]
  },
  {
   "cell_type": "markdown",
   "metadata": {},
   "source": [
    "For seeing the predictions that our model has made for the test data, we can use the predict function. The predict function will give an array with 10 numbers. These numbers are the probabilities that the input image represents each digit (0–9). The array index with the highest number represents the model prediction."
   ]
  },
  {
   "cell_type": "code",
   "execution_count": 13,
   "metadata": {},
   "outputs": [
    {
     "data": {
      "text/plain": [
       "array([7, 2, 1, 0], dtype=int64)"
      ]
     },
     "execution_count": 13,
     "metadata": {},
     "output_type": "execute_result"
    }
   ],
   "source": [
    "# For getting tha index with maximum value\n",
    "np.argmax(preds, axis=-1)"
   ]
  },
  {
   "cell_type": "code",
   "execution_count": 14,
   "metadata": {},
   "outputs": [
    {
     "data": {
      "text/plain": [
       "array([[0., 0., 0., 0., 0., 0., 0., 1., 0., 0.],\n",
       "       [0., 0., 1., 0., 0., 0., 0., 0., 0., 0.],\n",
       "       [0., 1., 0., 0., 0., 0., 0., 0., 0., 0.],\n",
       "       [1., 0., 0., 0., 0., 0., 0., 0., 0., 0.]], dtype=float32)"
      ]
     },
     "execution_count": 14,
     "metadata": {},
     "output_type": "execute_result"
    }
   ],
   "source": [
    "# show actual results for the first 3 images in the test set\n",
    "y_test[:4]"
   ]
  },
  {
   "cell_type": "code",
   "execution_count": 15,
   "metadata": {},
   "outputs": [
    {
     "data": {
      "text/plain": [
       "array([7, 2, 1, 0], dtype=int64)"
      ]
     },
     "execution_count": 15,
     "metadata": {},
     "output_type": "execute_result"
    }
   ],
   "source": [
    "# For getting tha index with maximum value\n",
    "np.argmax(y_test[:4], axis=-1)"
   ]
  },
  {
   "cell_type": "code",
   "execution_count": 16,
   "metadata": {},
   "outputs": [
    {
     "name": "stdout",
     "output_type": "stream",
     "text": [
      "10000/10000 [==============================] - 8s 778us/step\n",
      "Loss:  0.057 \n",
      "Accu:  0.983\n"
     ]
    }
   ],
   "source": [
    "# Evaluating the performance on the test set\n",
    "\n",
    "test_loss, test_acc = model.evaluate(x_test, y_test)\n",
    "print(\"Loss: \",test_loss.round(3),\"\\nAccu: \",test_acc.round(3))"
   ]
  },
  {
   "cell_type": "markdown",
   "metadata": {},
   "source": [
    "# Visualize Model"
   ]
  },
  {
   "cell_type": "code",
   "execution_count": 17,
   "metadata": {},
   "outputs": [
    {
     "data": {
      "text/plain": [
       "[<keras.layers.convolutional.Conv2D at 0x2305f1b6160>,\n",
       " <keras.layers.pooling.MaxPooling2D at 0x2305f1b6a58>,\n",
       " <keras.layers.convolutional.Conv2D at 0x2305f1b6390>,\n",
       " <keras.layers.pooling.MaxPooling2D at 0x2305f1c48d0>,\n",
       " <keras.layers.core.Flatten at 0x2305f1c4208>,\n",
       " <keras.layers.core.Dense at 0x2305f1e7668>]"
      ]
     },
     "execution_count": 17,
     "metadata": {},
     "output_type": "execute_result"
    }
   ],
   "source": [
    "model.layers"
   ]
  },
  {
   "cell_type": "code",
   "execution_count": 18,
   "metadata": {},
   "outputs": [
    {
     "name": "stdout",
     "output_type": "stream",
     "text": [
      "conv2d_1 True\n",
      "max_pooling2d_1 True\n",
      "conv2d_2 True\n",
      "max_pooling2d_2 True\n",
      "flatten_1 True\n",
      "dense_1 True\n"
     ]
    }
   ],
   "source": [
    "# Printing the name of the layers\n",
    "for layer in model.layers:\n",
    "    print(layer.name, layer.trainable)"
   ]
  },
  {
   "cell_type": "code",
   "execution_count": 19,
   "metadata": {},
   "outputs": [
    {
     "name": "stdout",
     "output_type": "stream",
     "text": [
      "Layer Configuration:\n",
      "{'kernel_initializer': {'class_name': 'VarianceScaling', 'config': {'seed': None, 'mode': 'fan_avg', 'distribution': 'uniform', 'scale': 1.0}}, 'activation': 'relu', 'padding': 'valid', 'batch_input_shape': (None, 28, 28, 1), 'strides': (1, 1), 'bias_initializer': {'class_name': 'Zeros', 'config': {}}, 'activity_regularizer': None, 'bias_constraint': None, 'bias_regularizer': None, 'dtype': 'float32', 'trainable': True, 'dilation_rate': (1, 1), 'kernel_constraint': None, 'kernel_size': (3, 3), 'name': 'conv2d_1', 'data_format': 'channels_last', 'filters': 64, 'kernel_regularizer': None, 'use_bias': True} \n",
      " ------------------------------------------------------------------------------------------------------------------------\n",
      "Layer Configuration:\n",
      "{'trainable': True, 'strides': (2, 2), 'pool_size': (2, 2), 'name': 'max_pooling2d_1', 'padding': 'valid', 'data_format': 'channels_last'} \n",
      " ------------------------------------------------------------------------------------------------------------------------\n",
      "Layer Configuration:\n",
      "{'kernel_initializer': {'class_name': 'VarianceScaling', 'config': {'seed': None, 'mode': 'fan_avg', 'distribution': 'uniform', 'scale': 1.0}}, 'filters': 32, 'activation': 'relu', 'bias_regularizer': None, 'strides': (1, 1), 'bias_initializer': {'class_name': 'Zeros', 'config': {}}, 'activity_regularizer': None, 'padding': 'valid', 'data_format': 'channels_last', 'trainable': True, 'dilation_rate': (1, 1), 'kernel_constraint': None, 'kernel_size': (3, 3), 'name': 'conv2d_2', 'bias_constraint': None, 'kernel_regularizer': None, 'use_bias': True} \n",
      " ------------------------------------------------------------------------------------------------------------------------\n",
      "Layer Configuration:\n",
      "{'trainable': True, 'strides': (2, 2), 'pool_size': (2, 2), 'name': 'max_pooling2d_2', 'padding': 'valid', 'data_format': 'channels_last'} \n",
      " ------------------------------------------------------------------------------------------------------------------------\n",
      "Layer Configuration:\n",
      "{'trainable': True, 'name': 'flatten_1', 'data_format': 'channels_last'} \n",
      " ------------------------------------------------------------------------------------------------------------------------\n",
      "Layer Configuration:\n",
      "{'kernel_initializer': {'class_name': 'VarianceScaling', 'config': {'seed': None, 'mode': 'fan_avg', 'distribution': 'uniform', 'scale': 1.0}}, 'activation': 'softmax', 'bias_regularizer': None, 'bias_initializer': {'class_name': 'Zeros', 'config': {}}, 'activity_regularizer': None, 'bias_constraint': None, 'trainable': True, 'kernel_constraint': None, 'name': 'dense_1', 'kernel_regularizer': None, 'units': 10, 'use_bias': True} \n",
      " ------------------------------------------------------------------------------------------------------------------------\n"
     ]
    }
   ],
   "source": [
    "for layer in model.layers:\n",
    "    print('Layer Configuration:')\n",
    "    print(layer.get_config(),\"\\n\",\"------\"*20)"
   ]
  },
  {
   "cell_type": "markdown",
   "metadata": {},
   "source": [
    "The weights of each layer can be obtained using"
   ]
  },
  {
   "cell_type": "code",
   "execution_count": 20,
   "metadata": {},
   "outputs": [
    {
     "name": "stdout",
     "output_type": "stream",
     "text": [
      "For Layer  conv2d_1  weights are\n",
      "[array([[[[-0.07117332, -0.11871236, -0.02792738, -0.02604584,\n",
      "          -0.12552024,  0.06599326, -0.0009745 , -0.10929321,\n",
      "          -0.00706674,  0.05502931, -0.08452702, -0.04653251,\n",
      "          -0.0949929 , -0.11232311,  0.00024684,  0.00849208,\n",
      "          -0.00574883, -0.0736568 ,  0.01780812, -0.00077945,\n",
      "          -0.07600698, -0.07713334, -0.01890288, -0.12654534,\n",
      "          -0.00616101, -0.09747548, -0.01090491, -0.02375196,\n",
      "           0.03713597, -0.07474131, -0.00866111, -0.00204889,\n",
      "          -0.00632484,  0.03857862, -0.05244157,  0.01286643,\n",
      "          -0.0185243 , -0.04976959, -0.08375214, -0.11644132,\n",
      "          -0.03624744, -0.04530561, -0.07460491, -0.0014205 ,\n",
      "          -0.13252297, -0.02572778, -0.03993769,  0.02834358,\n",
      "          -0.10054269, -0.08127081,  0.00123064, -0.0067372 ,\n",
      "           0.02846469, -0.05443987,  0.02492472, -0.00435449,\n",
      "          -0.0030198 , -0.07127823, -0.02900791, -0.09636054,\n",
      "           0.0123684 , -0.16246228,  0.0245565 , -0.09998744]],\n",
      "\n",
      "        [[ 0.08447798, -0.10675451, -0.11540053,  0.01037752,\n",
      "           0.03638961,  0.03950764, -0.05664811,  0.01244815,\n",
      "          -0.00035768, -0.10479114,  0.01640861, -0.10472696,\n",
      "          -0.1353851 , -0.05508336, -0.02732663, -0.11511774,\n",
      "          -0.08889554, -0.07136763,  0.0201474 , -0.06985815,\n",
      "          -0.07117468, -0.12249623, -0.07940701,  0.00898849,\n",
      "          -0.09195764,  0.0561309 , -0.00092454,  0.05771503,\n",
      "          -0.06547861, -0.06580272, -0.04000534,  0.0277759 ,\n",
      "          -0.11919779,  0.03464814, -0.1292196 ,  0.0152442 ,\n",
      "           0.06336793,  0.11401469, -0.05180689, -0.03307243,\n",
      "          -0.04246629, -0.09695424,  0.06761556, -0.09985224,\n",
      "          -0.00262992, -0.03270812,  0.08091559,  0.00240913,\n",
      "          -0.06545446, -0.1295374 ,  0.03737393, -0.02615711,\n",
      "          -0.04106867, -0.05803075, -0.0033087 , -0.12559319,\n",
      "          -0.00031429, -0.06331053,  0.04220006, -0.06885358,\n",
      "           0.05371145, -0.01354953, -0.1222773 ,  0.03474844]],\n",
      "\n",
      "        [[-0.02345826,  0.00879307, -0.03506756, -0.0998463 ,\n",
      "           0.03574207, -0.06883927, -0.09460594, -0.09840403,\n",
      "          -0.05230983, -0.04664407, -0.00508413, -0.08192607,\n",
      "          -0.11315824, -0.00108418, -0.07536927,  0.03852654,\n",
      "           0.03417294, -0.11292624, -0.06174188, -0.09413037,\n",
      "          -0.00140126, -0.03871202,  0.0360465 ,  0.00157606,\n",
      "          -0.00231779, -0.08265376, -0.12642808, -0.04307734,\n",
      "          -0.1829269 , -0.12454443, -0.09541831, -0.02079365,\n",
      "          -0.11971967, -0.15446821, -0.08507422,  0.02740215,\n",
      "          -0.01129526, -0.04340963, -0.05075004, -0.11283467,\n",
      "           0.0075107 , -0.12878223, -0.13040459, -0.0483269 ,\n",
      "          -0.01540897, -0.01812512, -0.09962723, -0.11089242,\n",
      "           0.04066715, -0.03661088,  0.00576867, -0.1140487 ,\n",
      "          -0.1165807 , -0.04230535,  0.01364185, -0.00622581,\n",
      "          -0.05396102, -0.04765547, -0.03558381, -0.12614685,\n",
      "           0.06361349,  0.01375276, -0.06466734, -0.06951197]]],\n",
      "\n",
      "\n",
      "       [[[-0.00872445, -0.05021581, -0.00515768, -0.0078065 ,\n",
      "           0.03765333,  0.00746253, -0.04333509, -0.08510514,\n",
      "          -0.0226424 , -0.05700384, -0.00056886,  0.05590802,\n",
      "          -0.08579811,  0.02949394, -0.01391746, -0.04049771,\n",
      "          -0.02890239, -0.05394748, -0.07647687, -0.11196511,\n",
      "          -0.05487207,  0.03229039,  0.07973446, -0.1272497 ,\n",
      "          -0.17779139,  0.02318418, -0.03869567, -0.07362141,\n",
      "           0.02992093, -0.06130052, -0.09674872,  0.04340508,\n",
      "          -0.00952491, -0.03737658, -0.02154541,  0.05971988,\n",
      "           0.02745396, -0.05833017, -0.08287732,  0.05988121,\n",
      "          -0.06774816,  0.02100799,  0.01141225, -0.00072003,\n",
      "           0.00715496, -0.00547277, -0.14209735, -0.11612639,\n",
      "          -0.13624136, -0.02552314, -0.0868283 , -0.04525357,\n",
      "          -0.10614338, -0.117608  , -0.07952435, -0.06351376,\n",
      "          -0.01496877, -0.02894251, -0.07460505,  0.01891474,\n",
      "          -0.06865213, -0.02794718,  0.00132732, -0.1031634 ]],\n",
      "\n",
      "        [[-0.06850489,  0.03387357, -0.05687363,  0.00574512,\n",
      "          -0.07613487, -0.04301169, -0.08362585,  0.06322757,\n",
      "          -0.01905222, -0.13250452, -0.04425525,  0.05665417,\n",
      "          -0.02932111,  0.08929042, -0.10340419,  0.04147007,\n",
      "          -0.07240648, -0.10258965,  0.00392788, -0.01920092,\n",
      "          -0.08376064,  0.00379926, -0.07540207,  0.02632105,\n",
      "          -0.0805808 , -0.0621942 ,  0.01209461, -0.06104959,\n",
      "           0.01676912,  0.0794052 ,  0.06866191,  0.05021181,\n",
      "          -0.22541064, -0.02771796, -0.05791441,  0.00034   ,\n",
      "           0.00567228, -0.02506464,  0.0224198 , -0.00608086,\n",
      "          -0.03740827,  0.01196067,  0.02913756, -0.02652275,\n",
      "          -0.03672565, -0.01586006, -0.14681304, -0.05059617,\n",
      "          -0.01705231, -0.0349501 , -0.02855689,  0.09042568,\n",
      "          -0.12469415, -0.05441951,  0.00118525,  0.06166201,\n",
      "          -0.01199335,  0.00273925, -0.08333818,  0.02486665,\n",
      "           0.00797554, -0.01194996,  0.02549597,  0.06496098]],\n",
      "\n",
      "        [[ 0.02773764,  0.04820566, -0.00293464,  0.05010955,\n",
      "          -0.04620614, -0.08360271, -0.0066494 , -0.11574119,\n",
      "           0.0169933 , -0.02419385,  0.05776184,  0.00421795,\n",
      "           0.03337151,  0.03932162, -0.02406464, -0.11237382,\n",
      "          -0.12990002, -0.08341685, -0.00645028, -0.07985427,\n",
      "          -0.07991454, -0.13329422, -0.0693965 ,  0.01809661,\n",
      "          -0.14013888, -0.09186098,  0.01681847, -0.06660898,\n",
      "          -0.1718421 ,  0.05314119, -0.09123161, -0.1154896 ,\n",
      "           0.07425418, -0.1588041 ,  0.01623648, -0.08485984,\n",
      "           0.02920865, -0.05555152,  0.00223899, -0.15745491,\n",
      "           0.0059534 , -0.01335897,  0.03421222, -0.0598258 ,\n",
      "          -0.0728912 , -0.03396851, -0.00938856, -0.08656713,\n",
      "           0.0702358 ,  0.01179086, -0.07536164, -0.00098328,\n",
      "          -0.03001666, -0.03504293,  0.02902822, -0.10593861,\n",
      "          -0.07953295,  0.10574228, -0.06319083, -0.06887974,\n",
      "          -0.01124017,  0.06895528, -0.12196758, -0.05369453]]],\n",
      "\n",
      "\n",
      "       [[[-0.20815198, -0.00440105,  0.0287188 , -0.03328489,\n",
      "           0.02903937, -0.00152312, -0.00727096, -0.01578625,\n",
      "          -0.02864425, -0.17098002, -0.10597537, -0.12533881,\n",
      "          -0.08826925,  0.02960703, -0.05718121, -0.06383619,\n",
      "          -0.10313582, -0.10480042, -0.10670441,  0.07464282,\n",
      "          -0.07483207, -0.06320179, -0.05682871, -0.1408936 ,\n",
      "           0.02406375, -0.08334149,  0.02730196, -0.09242893,\n",
      "          -0.09937346, -0.03572691, -0.10011245,  0.02903499,\n",
      "          -0.02808065, -0.10052233, -0.02385575, -0.06670771,\n",
      "          -0.020346  ,  0.03682933, -0.01903624,  0.06887703,\n",
      "          -0.07739822, -0.12165511, -0.11376353, -0.04472189,\n",
      "          -0.01383531, -0.03941099, -0.11727992, -0.00296587,\n",
      "          -0.03418158, -0.00225437, -0.13556832, -0.07532859,\n",
      "          -0.0394014 , -0.00126334,  0.013274  , -0.02858677,\n",
      "          -0.01914487, -0.00297442, -0.08698839, -0.06130847,\n",
      "          -0.03728948, -0.03530406,  0.02397774, -0.00980016]],\n",
      "\n",
      "        [[-0.01391999,  0.00533542, -0.13022862, -0.09590016,\n",
      "          -0.04021743, -0.06029318, -0.00918405, -0.00960081,\n",
      "          -0.00134189, -0.08668274, -0.05736934, -0.15192612,\n",
      "          -0.06902713, -0.04347692,  0.03018776, -0.09302849,\n",
      "           0.11542557, -0.13387617, -0.07090872,  0.06899968,\n",
      "          -0.09588496,  0.02702403, -0.02122652,  0.02879054,\n",
      "          -0.06693469, -0.04194311, -0.09225386, -0.05814867,\n",
      "          -0.14327322, -0.06111673, -0.06016694,  0.0049184 ,\n",
      "          -0.10998747, -0.04329059, -0.00077693, -0.11546659,\n",
      "          -0.0313705 , -0.07584186, -0.1326769 , -0.02986187,\n",
      "          -0.04949946,  0.04571829, -0.04038511, -0.00684647,\n",
      "          -0.05333999, -0.04389523, -0.04881751, -0.10692581,\n",
      "          -0.06753148, -0.02310853, -0.05022598, -0.11820489,\n",
      "          -0.00323643, -0.03145607, -0.10103579, -0.09857317,\n",
      "          -0.06434342, -0.19839574, -0.11829505, -0.05266193,\n",
      "          -0.07491773, -0.0622046 ,  0.03803477, -0.02933186]],\n",
      "\n",
      "        [[-0.1247382 , -0.03485401,  0.04220204, -0.0533133 ,\n",
      "          -0.02622193,  0.03903452, -0.07107251, -0.09940782,\n",
      "          -0.03402586, -0.00651949, -0.10042509, -0.03209064,\n",
      "           0.00152026, -0.08211438, -0.03205695, -0.01295862,\n",
      "          -0.06220527, -0.00539724,  0.0269601 , -0.02895791,\n",
      "          -0.04000992, -0.0183319 , -0.10718589, -0.01822807,\n",
      "          -0.06522793,  0.04155295, -0.114325  ,  0.01984718,\n",
      "           0.01465203, -0.06666005, -0.0033835 , -0.06465342,\n",
      "           0.00172313, -0.0771261 ,  0.03461384,  0.01092802,\n",
      "           0.0206871 , -0.03581536, -0.00700719, -0.06308696,\n",
      "          -0.00029517,  0.03146335, -0.05338996, -0.07290274,\n",
      "          -0.06172956, -0.07477669,  0.03361305,  0.03839117,\n",
      "          -0.00278286, -0.11538932,  0.0016399 , -0.03960989,\n",
      "          -0.07888297, -0.00318916, -0.05844743, -0.01737376,\n",
      "          -0.00167911, -0.1025303 ,  0.00033489,  0.01045327,\n",
      "          -0.11905272, -0.06980276, -0.06009643, -0.03707501]]]],\n",
      "      dtype=float32), array([ 0.16362906, -0.19920488, -0.05131278, -0.03918614, -0.07396127,\n",
      "       -0.11191096, -0.0122976 ,  0.09280987, -0.14364952,  0.11108728,\n",
      "       -0.07637112, -0.0727768 , -0.0769791 , -0.19905463, -0.14828241,\n",
      "       -0.05303967, -0.0095891 ,  0.08531517, -0.2008735 , -0.03723214,\n",
      "       -0.01810488, -0.14492409,  0.09305369, -0.11942552, -0.02450363,\n",
      "       -0.01291143, -0.15586361, -0.03780345,  0.13438338, -0.0491783 ,\n",
      "       -0.13057396, -0.14469838, -0.04261843, -0.01492063, -0.05406488,\n",
      "       -0.13373847, -0.1871528 , -0.0114229 ,  0.2265421 ,  0.19165981,\n",
      "       -0.06756905, -0.07845617, -0.10806536, -0.07989664, -0.10426535,\n",
      "       -0.11765559, -0.01571426, -0.06161196, -0.11035869, -0.04827874,\n",
      "       -0.15027952, -0.03222513,  0.09988561, -0.05248236, -0.24445036,\n",
      "        0.17703323, -0.02300324, -0.00808931, -0.09001867,  0.055414  ,\n",
      "       -0.0425432 , -0.00539372, -0.16036756, -0.02117861], dtype=float32)]\n",
      "\n",
      "------------------------------------------------------------------------------------------------------------------------\n",
      "For Layer  max_pooling2d_1  weights are\n",
      "[]\n",
      "\n",
      "------------------------------------------------------------------------------------------------------------------------\n",
      "For Layer  conv2d_2  weights are\n",
      "[array([[[[ 1.47242755e-01,  2.66789906e-02,  5.04215211e-02, ...,\n",
      "           1.17153395e-02, -8.84918496e-02,  1.49413375e-02],\n",
      "         [-9.45985783e-03, -1.70304760e-01, -1.29538938e-01, ...,\n",
      "          -1.53739909e-02, -1.57493889e-01, -8.63202438e-02],\n",
      "         [ 9.25283507e-02, -8.66336096e-03, -5.41876769e-03, ...,\n",
      "           3.63539569e-02, -5.36373965e-02,  1.83970667e-02],\n",
      "         ...,\n",
      "         [ 2.97880471e-02, -7.87177309e-02, -3.33618699e-03, ...,\n",
      "          -5.09566143e-02,  4.74112816e-02, -1.38479456e-01],\n",
      "         [ 2.66195182e-02, -1.25526246e-02, -6.53924197e-02, ...,\n",
      "          -6.34578466e-02, -2.29504704e-02,  3.41749117e-02],\n",
      "         [ 1.10229738e-01,  3.45107391e-02, -1.43238783e-01, ...,\n",
      "           4.32725549e-02, -1.82550214e-02, -8.12208503e-02]],\n",
      "\n",
      "        [[-3.23588774e-02, -1.40136749e-01,  1.12119121e-02, ...,\n",
      "          -6.85858577e-02, -8.10684562e-02,  3.60856391e-02],\n",
      "         [-1.53639978e-02, -9.84892547e-02, -2.57338071e-03, ...,\n",
      "           3.67429070e-02, -1.21523209e-01, -5.12350397e-03],\n",
      "         [-9.01409909e-02, -8.78074914e-02, -1.35933533e-01, ...,\n",
      "          -7.30963647e-02,  9.42765623e-02,  2.47306395e-02],\n",
      "         ...,\n",
      "         [-3.83386873e-02, -1.25316992e-01, -1.76616102e-01, ...,\n",
      "           5.03977053e-02, -3.78032140e-02, -1.92265622e-02],\n",
      "         [-6.09666072e-02, -2.14817934e-02, -3.19942944e-02, ...,\n",
      "           2.25282777e-02,  1.82351787e-02, -7.15589896e-02],\n",
      "         [ 1.68286934e-02,  1.67781319e-02, -1.49384633e-01, ...,\n",
      "          -2.91456785e-02, -1.62401311e-02, -7.03098327e-02]],\n",
      "\n",
      "        [[-1.04356920e-02, -7.50258490e-02, -1.05425358e-01, ...,\n",
      "          -8.17408785e-02, -1.10115465e-02, -2.08047722e-02],\n",
      "         [-7.13476585e-03,  1.89891625e-02,  8.59914441e-03, ...,\n",
      "           2.23856810e-02,  6.27234876e-02,  4.09330055e-02],\n",
      "         [-9.55698565e-02,  3.58661450e-02,  3.69029641e-02, ...,\n",
      "          -3.42580006e-02, -9.77186486e-02,  3.97637151e-02],\n",
      "         ...,\n",
      "         [ 4.51069735e-02, -5.88098168e-02, -2.25810632e-02, ...,\n",
      "          -4.33140621e-02, -5.65709136e-02,  4.75902110e-03],\n",
      "         [-3.01821642e-02, -5.70200458e-02, -1.06811345e-01, ...,\n",
      "           4.27577235e-02, -4.73121926e-02, -4.00995351e-02],\n",
      "         [-2.85557173e-02, -1.13448285e-01, -1.10264853e-01, ...,\n",
      "           7.31734484e-02, -1.21356174e-01, -1.10395938e-01]]],\n",
      "\n",
      "\n",
      "       [[[-7.42831379e-02, -4.20271643e-02, -4.56541590e-02, ...,\n",
      "          -3.64116170e-02,  9.63895768e-03, -4.15653177e-02],\n",
      "         [ 2.16544550e-02, -3.89177874e-02, -1.61513746e-01, ...,\n",
      "          -5.99172413e-02, -3.30981016e-02,  4.24917489e-02],\n",
      "         [-6.32038563e-02,  4.97998670e-03,  4.99285832e-02, ...,\n",
      "          -3.57105918e-02, -5.50891757e-02, -6.36984110e-02],\n",
      "         ...,\n",
      "         [-4.58841696e-02,  4.65462729e-02,  6.51880130e-02, ...,\n",
      "           1.76802650e-02, -3.16915922e-02, -6.87682852e-02],\n",
      "         [-1.05615053e-02,  7.21931309e-02,  4.40869778e-02, ...,\n",
      "          -6.05663173e-02, -5.45338116e-05,  3.61469351e-02],\n",
      "         [-2.04362646e-02,  8.61063674e-02,  1.01525724e-01, ...,\n",
      "          -6.57881983e-03,  1.17480099e-01,  1.65729776e-01]],\n",
      "\n",
      "        [[ 6.03367900e-03, -7.44615644e-02,  6.43182620e-02, ...,\n",
      "          -1.83179732e-02, -1.02882646e-01, -4.33815308e-02],\n",
      "         [-1.33785224e-02, -9.32527855e-02, -2.40945611e-02, ...,\n",
      "          -4.30291668e-02,  1.29592726e-02,  8.10526535e-02],\n",
      "         [ 3.40652317e-02, -1.36186397e-02, -1.45747140e-02, ...,\n",
      "          -9.07168314e-02, -5.16638830e-02,  2.26590615e-02],\n",
      "         ...,\n",
      "         [-6.59192652e-02,  1.31926080e-02,  1.57805476e-02, ...,\n",
      "           3.70068918e-03, -1.12008424e-02, -1.18654966e-01],\n",
      "         [-5.67757487e-02, -3.50484289e-02, -6.03253506e-02, ...,\n",
      "          -2.88796425e-02, -5.09755202e-02, -2.39123292e-02],\n",
      "         [ 1.50047513e-02,  4.90384139e-02, -6.05917796e-02, ...,\n",
      "          -5.03946729e-02, -4.91564570e-04, -3.86972278e-02]],\n",
      "\n",
      "        [[-9.70722660e-02, -3.92881893e-02, -3.31214629e-02, ...,\n",
      "          -6.37730956e-02, -5.40726297e-02, -1.52105480e-01],\n",
      "         [-4.12522033e-02, -4.01144736e-02, -5.51840067e-02, ...,\n",
      "          -6.73935935e-02, -8.19227472e-02, -2.70670075e-02],\n",
      "         [-4.29089367e-02, -1.06783845e-02, -1.50408102e-02, ...,\n",
      "          -5.92597015e-02, -5.85464388e-02,  3.39204520e-02],\n",
      "         ...,\n",
      "         [ 7.02334568e-03, -3.79257277e-02,  5.41646034e-02, ...,\n",
      "           2.54155900e-02, -1.25564054e-01,  4.14403751e-02],\n",
      "         [-1.15616685e-02,  6.49858043e-02, -6.27052560e-02, ...,\n",
      "          -3.55830975e-02,  8.95072240e-03, -8.53924081e-02],\n",
      "         [-1.25390282e-02,  5.42574786e-02, -1.71353206e-01, ...,\n",
      "          -4.02617604e-02, -5.54625280e-02, -5.63652851e-02]]],\n",
      "\n",
      "\n",
      "       [[[ 1.24008413e-02, -2.69593503e-02,  4.84607033e-02, ...,\n",
      "          -1.27874717e-01,  2.28085816e-02, -8.17716643e-02],\n",
      "         [-2.21765451e-02,  2.11700350e-02, -1.33167401e-01, ...,\n",
      "          -1.06587075e-02, -1.88206974e-02, -8.38784650e-02],\n",
      "         [-9.19862688e-02, -4.81441431e-02, -1.72143113e-02, ...,\n",
      "          -8.73892978e-02, -3.43989879e-02,  8.24080855e-02],\n",
      "         ...,\n",
      "         [-1.51772646e-03,  1.09046400e-01, -6.16853572e-02, ...,\n",
      "           2.14315318e-02,  2.30486244e-02, -9.62861720e-03],\n",
      "         [ 2.75206156e-02,  1.04895616e-02, -1.31891191e-01, ...,\n",
      "          -6.64265677e-02, -3.10947467e-02, -5.32123074e-02],\n",
      "         [-1.96635704e-02, -3.76867093e-02,  8.65489319e-02, ...,\n",
      "          -1.22101726e-02, -9.00545046e-02,  8.84499215e-03]],\n",
      "\n",
      "        [[-8.03298652e-02,  4.35877740e-02,  2.04582531e-02, ...,\n",
      "          -3.69669348e-02, -5.39523666e-04, -3.51063758e-02],\n",
      "         [ 5.01956232e-02, -6.86801225e-02,  6.22917525e-02, ...,\n",
      "          -7.33482689e-02, -4.32569385e-02,  5.65941306e-03],\n",
      "         [-3.28259394e-02,  3.74205746e-02, -2.66329534e-02, ...,\n",
      "          -3.10606211e-02, -5.68326339e-02,  2.98417024e-02],\n",
      "         ...,\n",
      "         [ 3.26395929e-02, -1.99200232e-02, -8.53372440e-02, ...,\n",
      "          -2.92070955e-02,  2.88725812e-02, -8.85830969e-02],\n",
      "         [-6.83150515e-02, -8.10724571e-02,  3.56491245e-02, ...,\n",
      "          -5.66566736e-02,  4.44304310e-02, -1.27224252e-01],\n",
      "         [-4.78342809e-02,  6.20808452e-03,  8.07235762e-03, ...,\n",
      "          -1.57145709e-02,  6.72117323e-02, -1.25826120e-01]],\n",
      "\n",
      "        [[-7.95219690e-02,  2.43019331e-02, -8.30961540e-02, ...,\n",
      "          -7.69272894e-02,  5.75096870e-04, -8.86841211e-03],\n",
      "         [ 1.55063821e-02,  1.57060511e-02, -5.02336472e-02, ...,\n",
      "          -5.66256382e-02, -7.39021376e-02,  7.32171088e-02],\n",
      "         [ 6.41202554e-02,  1.32158957e-02, -7.18665272e-02, ...,\n",
      "           5.44177070e-02, -3.46358716e-02, -1.02468237e-01],\n",
      "         ...,\n",
      "         [-4.28491235e-02, -1.71934769e-01,  4.27224599e-02, ...,\n",
      "           6.17890656e-02, -3.02133523e-02, -6.42241985e-02],\n",
      "         [-5.36799245e-02, -1.55935651e-02,  4.50714529e-02, ...,\n",
      "          -4.25501727e-02,  1.09358709e-02, -9.96129662e-02],\n",
      "         [-4.72083129e-02,  9.64651257e-03, -4.03786227e-02, ...,\n",
      "           6.00905754e-02, -1.57352407e-02, -8.68089683e-03]]]],\n",
      "      dtype=float32), array([-0.06703257, -0.14032975, -0.08035215, -0.1151592 , -0.10963862,\n",
      "       -0.04494528,  0.03309212, -0.01448882, -0.16388717, -0.14389631,\n",
      "       -0.0592902 , -0.04692275, -0.05926466, -0.09937331, -0.042744  ,\n",
      "       -0.1435697 , -0.08504525, -0.04954272, -0.04959323, -0.03587022,\n",
      "       -0.05506749, -0.0513914 , -0.07166238, -0.08292232,  0.05499171,\n",
      "       -0.11737438,  0.08524324, -0.0494863 , -0.09996063, -0.09213842,\n",
      "       -0.06284288, -0.03348019], dtype=float32)]\n",
      "\n",
      "------------------------------------------------------------------------------------------------------------------------\n",
      "For Layer  max_pooling2d_2  weights are\n",
      "[]\n",
      "\n",
      "------------------------------------------------------------------------------------------------------------------------\n",
      "For Layer  flatten_1  weights are\n",
      "[]\n",
      "\n",
      "------------------------------------------------------------------------------------------------------------------------\n",
      "For Layer  dense_1  weights are\n",
      "[array([[-0.0393944 ,  0.03685861,  0.10786375, ...,  0.01056521,\n",
      "         0.04718429,  0.05705115],\n",
      "       [ 0.02495749, -0.12434618,  0.06060372, ..., -0.05735463,\n",
      "         0.07334856, -0.00496952],\n",
      "       [-0.17000145,  0.05811244,  0.03101713, ...,  0.05700269,\n",
      "        -0.10992602, -0.12855726],\n",
      "       ...,\n",
      "       [-0.15952289, -0.05728431, -0.03810475, ..., -0.10806225,\n",
      "        -0.13424054, -0.0302014 ],\n",
      "       [ 0.05468585, -0.15723929, -0.15520404, ...,  0.0444172 ,\n",
      "        -0.03954192,  0.02277395],\n",
      "       [-0.05103776, -0.06624476,  0.02015143, ..., -0.02508527,\n",
      "        -0.07558399, -0.09718696]], dtype=float32), array([ 0.03967373,  0.07477923, -0.01405334, -0.00678689, -0.0154657 ,\n",
      "        0.00377952, -0.03890229,  0.03050109,  0.05264371, -0.03742404],\n",
      "      dtype=float32)]\n",
      "\n",
      "------------------------------------------------------------------------------------------------------------------------\n"
     ]
    }
   ],
   "source": [
    "for i in range(len(model.layers)):\n",
    "    print(\"For Layer \",model.layers[i].name,\" weights are\")\n",
    "    print(model.layers[i].get_weights())\n",
    "    print()\n",
    "    print(\"----\"*30)"
   ]
  },
  {
   "cell_type": "markdown",
   "metadata": {},
   "source": [
    "Keras also provides a function to create a plot of the network neural network graph that can make more complex models easier to understand.\n",
    "\n",
    "The plot_model() function in Keras will create a plot of your network. This function takes a few useful arguments:\n",
    "\n",
    "1. model: (required) The model that you wish to plot.\n",
    "2. to_file: (required) The name of the file to which to save the plot.\n",
    "3. show_shapes: (optional, defaults to False) Whether or not to show the output shapes of each layer.\n",
    "4. show_layer_names: (optional, defaults to True) Whether or not to show the name for each layer.\n",
    "\n",
    "Example : plot_model(model, to_file='model_plot.png', show_shapes=True, show_layer_names=True)"
   ]
  },
  {
   "cell_type": "code",
   "execution_count": 21,
   "metadata": {},
   "outputs": [
    {
     "data": {
      "image/png": "[encoded data removed]",
      "text/plain": [
       "<Figure size 720x864 with 1 Axes>"
      ]
     },
     "metadata": {},
     "output_type": "display_data"
    }
   ],
   "source": [
    "from keras.utils.vis_utils import plot_model\n",
    "import pydot\n",
    "\n",
    "plot_model(model, to_file='DigitRecognitionWithANN.png', show_shapes=True, show_layer_names=True)\n",
    "\n",
    "# Python program to read  \n",
    "# image using matplotlib \n",
    "  \n",
    "# importing matplotlib modules \n",
    "import matplotlib.image as mpimg \n",
    "import matplotlib.pyplot as plt \n",
    "  \n",
    "# Read Images \n",
    "img = mpimg.imread('DigitRecognitionWithANN.png') \n",
    "\n",
    "# increasing the size of image\n",
    "plt.figure(figsize=(10,12))\n",
    "\n",
    "# Output Images\n",
    "plt.imshow(img)\n",
    "\n",
    "# for deleting the png file\n",
    "import os\n",
    "try: \n",
    "    os.remove(\"DigitRecognitionWithANN.png\")\n",
    "except: \n",
    "    print(\"Not Removed\")"
   ]
  },
  {
   "cell_type": "code",
   "execution_count": null,
   "metadata": {},
   "outputs": [],
   "source": []
  }
 ],
 "metadata": {
  "kernelspec": {
   "display_name": "Python 3",
   "language": "python",
   "name": "python3"
  },
  "language_info": {
   "codemirror_mode": {
    "name": "ipython",
    "version": 3
   },
   "file_extension": ".py",
   "mimetype": "text/x-python",
   "name": "python",
   "nbconvert_exporter": "python",
   "pygments_lexer": "ipython3",
   "version": "3.5.5"
  }
 },
 "nbformat": 4,
 "nbformat_minor": 2
}
