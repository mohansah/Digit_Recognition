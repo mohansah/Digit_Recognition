{
 "cells": [
  {
   "cell_type": "code",
   "execution_count": 1,
   "metadata": {},
   "outputs": [
    {
     "name": "stderr",
     "output_type": "stream",
     "text": [
      "C:\\Users\\MOHAN KUMAR SAH\\.conda\\envs\\python3.5\\lib\\site-packages\\h5py\\__init__.py:36: FutureWarning: Conversion of the second argument of issubdtype from `float` to `np.floating` is deprecated. In future, it will be treated as `np.float64 == np.dtype(float).type`.\n",
      "  from ._conv import register_converters as _register_converters\n",
      "Using TensorFlow backend.\n"
     ]
    }
   ],
   "source": [
    "# importing necessary pacakges\n",
    "\n",
    "from keras.models import Sequential\n",
    "from keras.layers import Dense\n",
    "import numpy as np\n",
    "import pandas as pd\n",
    "from keras.utils import to_categorical"
   ]
  },
  {
   "cell_type": "code",
   "execution_count": 3,
   "metadata": {},
   "outputs": [
    {
     "data": {
      "text/html": [
       "<div>\n",
       "<style scoped>\n",
       "    .dataframe tbody tr th:only-of-type {\n",
       "        vertical-align: middle;\n",
       "    }\n",
       "\n",
       "    .dataframe tbody tr th {\n",
       "        vertical-align: top;\n",
       "    }\n",
       "\n",
       "    .dataframe thead th {\n",
       "        text-align: right;\n",
       "    }\n",
       "</style>\n",
       "<table border=\"1\" class=\"dataframe\">\n",
       "  <thead>\n",
       "    <tr style=\"text-align: right;\">\n",
       "      <th></th>\n",
       "      <th>label</th>\n",
       "      <th>1x1</th>\n",
       "      <th>1x2</th>\n",
       "      <th>1x3</th>\n",
       "      <th>1x4</th>\n",
       "      <th>1x5</th>\n",
       "      <th>1x6</th>\n",
       "      <th>1x7</th>\n",
       "      <th>1x8</th>\n",
       "      <th>1x9</th>\n",
       "      <th>...</th>\n",
       "      <th>28x19</th>\n",
       "      <th>28x20</th>\n",
       "      <th>28x21</th>\n",
       "      <th>28x22</th>\n",
       "      <th>28x23</th>\n",
       "      <th>28x24</th>\n",
       "      <th>28x25</th>\n",
       "      <th>28x26</th>\n",
       "      <th>28x27</th>\n",
       "      <th>28x28</th>\n",
       "    </tr>\n",
       "  </thead>\n",
       "  <tbody>\n",
       "    <tr>\n",
       "      <th>0</th>\n",
       "      <td>5</td>\n",
       "      <td>0</td>\n",
       "      <td>0</td>\n",
       "      <td>0</td>\n",
       "      <td>0</td>\n",
       "      <td>0</td>\n",
       "      <td>0</td>\n",
       "      <td>0</td>\n",
       "      <td>0</td>\n",
       "      <td>0</td>\n",
       "      <td>...</td>\n",
       "      <td>0</td>\n",
       "      <td>0</td>\n",
       "      <td>0</td>\n",
       "      <td>0</td>\n",
       "      <td>0</td>\n",
       "      <td>0</td>\n",
       "      <td>0</td>\n",
       "      <td>0</td>\n",
       "      <td>0</td>\n",
       "      <td>0</td>\n",
       "    </tr>\n",
       "    <tr>\n",
       "      <th>1</th>\n",
       "      <td>0</td>\n",
       "      <td>0</td>\n",
       "      <td>0</td>\n",
       "      <td>0</td>\n",
       "      <td>0</td>\n",
       "      <td>0</td>\n",
       "      <td>0</td>\n",
       "      <td>0</td>\n",
       "      <td>0</td>\n",
       "      <td>0</td>\n",
       "      <td>...</td>\n",
       "      <td>0</td>\n",
       "      <td>0</td>\n",
       "      <td>0</td>\n",
       "      <td>0</td>\n",
       "      <td>0</td>\n",
       "      <td>0</td>\n",
       "      <td>0</td>\n",
       "      <td>0</td>\n",
       "      <td>0</td>\n",
       "      <td>0</td>\n",
       "    </tr>\n",
       "    <tr>\n",
       "      <th>2</th>\n",
       "      <td>4</td>\n",
       "      <td>0</td>\n",
       "      <td>0</td>\n",
       "      <td>0</td>\n",
       "      <td>0</td>\n",
       "      <td>0</td>\n",
       "      <td>0</td>\n",
       "      <td>0</td>\n",
       "      <td>0</td>\n",
       "      <td>0</td>\n",
       "      <td>...</td>\n",
       "      <td>0</td>\n",
       "      <td>0</td>\n",
       "      <td>0</td>\n",
       "      <td>0</td>\n",
       "      <td>0</td>\n",
       "      <td>0</td>\n",
       "      <td>0</td>\n",
       "      <td>0</td>\n",
       "      <td>0</td>\n",
       "      <td>0</td>\n",
       "    </tr>\n",
       "    <tr>\n",
       "      <th>3</th>\n",
       "      <td>1</td>\n",
       "      <td>0</td>\n",
       "      <td>0</td>\n",
       "      <td>0</td>\n",
       "      <td>0</td>\n",
       "      <td>0</td>\n",
       "      <td>0</td>\n",
       "      <td>0</td>\n",
       "      <td>0</td>\n",
       "      <td>0</td>\n",
       "      <td>...</td>\n",
       "      <td>0</td>\n",
       "      <td>0</td>\n",
       "      <td>0</td>\n",
       "      <td>0</td>\n",
       "      <td>0</td>\n",
       "      <td>0</td>\n",
       "      <td>0</td>\n",
       "      <td>0</td>\n",
       "      <td>0</td>\n",
       "      <td>0</td>\n",
       "    </tr>\n",
       "    <tr>\n",
       "      <th>4</th>\n",
       "      <td>9</td>\n",
       "      <td>0</td>\n",
       "      <td>0</td>\n",
       "      <td>0</td>\n",
       "      <td>0</td>\n",
       "      <td>0</td>\n",
       "      <td>0</td>\n",
       "      <td>0</td>\n",
       "      <td>0</td>\n",
       "      <td>0</td>\n",
       "      <td>...</td>\n",
       "      <td>0</td>\n",
       "      <td>0</td>\n",
       "      <td>0</td>\n",
       "      <td>0</td>\n",
       "      <td>0</td>\n",
       "      <td>0</td>\n",
       "      <td>0</td>\n",
       "      <td>0</td>\n",
       "      <td>0</td>\n",
       "      <td>0</td>\n",
       "    </tr>\n",
       "  </tbody>\n",
       "</table>\n",
       "<p>5 rows × 785 columns</p>\n",
       "</div>"
      ],
      "text/plain": [
       "   label  1x1  1x2  1x3  1x4  1x5  1x6  1x7  1x8  1x9  ...    28x19  28x20  \\\n",
       "0      5    0    0    0    0    0    0    0    0    0  ...        0      0   \n",
       "1      0    0    0    0    0    0    0    0    0    0  ...        0      0   \n",
       "2      4    0    0    0    0    0    0    0    0    0  ...        0      0   \n",
       "3      1    0    0    0    0    0    0    0    0    0  ...        0      0   \n",
       "4      9    0    0    0    0    0    0    0    0    0  ...        0      0   \n",
       "\n",
       "   28x21  28x22  28x23  28x24  28x25  28x26  28x27  28x28  \n",
       "0      0      0      0      0      0      0      0      0  \n",
       "1      0      0      0      0      0      0      0      0  \n",
       "2      0      0      0      0      0      0      0      0  \n",
       "3      0      0      0      0      0      0      0      0  \n",
       "4      0      0      0      0      0      0      0      0  \n",
       "\n",
       "[5 rows x 785 columns]"
      ]
     },
     "execution_count": 3,
     "metadata": {},
     "output_type": "execute_result"
    }
   ],
   "source": [
    "df_train=pd.read_csv(\"mnist_train.csv\")\n",
    "df_train.head(5)"
   ]
  },
  {
   "cell_type": "code",
   "execution_count": 4,
   "metadata": {},
   "outputs": [
    {
     "data": {
      "text/plain": [
       "(60000, 785)"
      ]
     },
     "execution_count": 4,
     "metadata": {},
     "output_type": "execute_result"
    }
   ],
   "source": [
    "df_train.shape"
   ]
  },
  {
   "cell_type": "code",
   "execution_count": 5,
   "metadata": {},
   "outputs": [
    {
     "name": "stdout",
     "output_type": "stream",
     "text": [
      "(60000, 784)\n",
      "(60000,)\n"
     ]
    }
   ],
   "source": [
    "x_train=df_train.drop(\"label\",axis=1)\n",
    "y_train=df_train[\"label\"]\n",
    "print(x_train.shape)\n",
    "print(y_train.shape)"
   ]
  },
  {
   "cell_type": "code",
   "execution_count": 6,
   "metadata": {},
   "outputs": [
    {
     "data": {
      "text/html": [
       "<div>\n",
       "<style scoped>\n",
       "    .dataframe tbody tr th:only-of-type {\n",
       "        vertical-align: middle;\n",
       "    }\n",
       "\n",
       "    .dataframe tbody tr th {\n",
       "        vertical-align: top;\n",
       "    }\n",
       "\n",
       "    .dataframe thead th {\n",
       "        text-align: right;\n",
       "    }\n",
       "</style>\n",
       "<table border=\"1\" class=\"dataframe\">\n",
       "  <thead>\n",
       "    <tr style=\"text-align: right;\">\n",
       "      <th></th>\n",
       "      <th>label</th>\n",
       "      <th>1x1</th>\n",
       "      <th>1x2</th>\n",
       "      <th>1x3</th>\n",
       "      <th>1x4</th>\n",
       "      <th>1x5</th>\n",
       "      <th>1x6</th>\n",
       "      <th>1x7</th>\n",
       "      <th>1x8</th>\n",
       "      <th>1x9</th>\n",
       "      <th>...</th>\n",
       "      <th>28x19</th>\n",
       "      <th>28x20</th>\n",
       "      <th>28x21</th>\n",
       "      <th>28x22</th>\n",
       "      <th>28x23</th>\n",
       "      <th>28x24</th>\n",
       "      <th>28x25</th>\n",
       "      <th>28x26</th>\n",
       "      <th>28x27</th>\n",
       "      <th>28x28</th>\n",
       "    </tr>\n",
       "  </thead>\n",
       "  <tbody>\n",
       "    <tr>\n",
       "      <th>0</th>\n",
       "      <td>7</td>\n",
       "      <td>0</td>\n",
       "      <td>0</td>\n",
       "      <td>0</td>\n",
       "      <td>0</td>\n",
       "      <td>0</td>\n",
       "      <td>0</td>\n",
       "      <td>0</td>\n",
       "      <td>0</td>\n",
       "      <td>0</td>\n",
       "      <td>...</td>\n",
       "      <td>0</td>\n",
       "      <td>0</td>\n",
       "      <td>0</td>\n",
       "      <td>0</td>\n",
       "      <td>0</td>\n",
       "      <td>0</td>\n",
       "      <td>0</td>\n",
       "      <td>0</td>\n",
       "      <td>0</td>\n",
       "      <td>0</td>\n",
       "    </tr>\n",
       "    <tr>\n",
       "      <th>1</th>\n",
       "      <td>2</td>\n",
       "      <td>0</td>\n",
       "      <td>0</td>\n",
       "      <td>0</td>\n",
       "      <td>0</td>\n",
       "      <td>0</td>\n",
       "      <td>0</td>\n",
       "      <td>0</td>\n",
       "      <td>0</td>\n",
       "      <td>0</td>\n",
       "      <td>...</td>\n",
       "      <td>0</td>\n",
       "      <td>0</td>\n",
       "      <td>0</td>\n",
       "      <td>0</td>\n",
       "      <td>0</td>\n",
       "      <td>0</td>\n",
       "      <td>0</td>\n",
       "      <td>0</td>\n",
       "      <td>0</td>\n",
       "      <td>0</td>\n",
       "    </tr>\n",
       "    <tr>\n",
       "      <th>2</th>\n",
       "      <td>1</td>\n",
       "      <td>0</td>\n",
       "      <td>0</td>\n",
       "      <td>0</td>\n",
       "      <td>0</td>\n",
       "      <td>0</td>\n",
       "      <td>0</td>\n",
       "      <td>0</td>\n",
       "      <td>0</td>\n",
       "      <td>0</td>\n",
       "      <td>...</td>\n",
       "      <td>0</td>\n",
       "      <td>0</td>\n",
       "      <td>0</td>\n",
       "      <td>0</td>\n",
       "      <td>0</td>\n",
       "      <td>0</td>\n",
       "      <td>0</td>\n",
       "      <td>0</td>\n",
       "      <td>0</td>\n",
       "      <td>0</td>\n",
       "    </tr>\n",
       "    <tr>\n",
       "      <th>3</th>\n",
       "      <td>0</td>\n",
       "      <td>0</td>\n",
       "      <td>0</td>\n",
       "      <td>0</td>\n",
       "      <td>0</td>\n",
       "      <td>0</td>\n",
       "      <td>0</td>\n",
       "      <td>0</td>\n",
       "      <td>0</td>\n",
       "      <td>0</td>\n",
       "      <td>...</td>\n",
       "      <td>0</td>\n",
       "      <td>0</td>\n",
       "      <td>0</td>\n",
       "      <td>0</td>\n",
       "      <td>0</td>\n",
       "      <td>0</td>\n",
       "      <td>0</td>\n",
       "      <td>0</td>\n",
       "      <td>0</td>\n",
       "      <td>0</td>\n",
       "    </tr>\n",
       "    <tr>\n",
       "      <th>4</th>\n",
       "      <td>4</td>\n",
       "      <td>0</td>\n",
       "      <td>0</td>\n",
       "      <td>0</td>\n",
       "      <td>0</td>\n",
       "      <td>0</td>\n",
       "      <td>0</td>\n",
       "      <td>0</td>\n",
       "      <td>0</td>\n",
       "      <td>0</td>\n",
       "      <td>...</td>\n",
       "      <td>0</td>\n",
       "      <td>0</td>\n",
       "      <td>0</td>\n",
       "      <td>0</td>\n",
       "      <td>0</td>\n",
       "      <td>0</td>\n",
       "      <td>0</td>\n",
       "      <td>0</td>\n",
       "      <td>0</td>\n",
       "      <td>0</td>\n",
       "    </tr>\n",
       "  </tbody>\n",
       "</table>\n",
       "<p>5 rows × 785 columns</p>\n",
       "</div>"
      ],
      "text/plain": [
       "   label  1x1  1x2  1x3  1x4  1x5  1x6  1x7  1x8  1x9  ...    28x19  28x20  \\\n",
       "0      7    0    0    0    0    0    0    0    0    0  ...        0      0   \n",
       "1      2    0    0    0    0    0    0    0    0    0  ...        0      0   \n",
       "2      1    0    0    0    0    0    0    0    0    0  ...        0      0   \n",
       "3      0    0    0    0    0    0    0    0    0    0  ...        0      0   \n",
       "4      4    0    0    0    0    0    0    0    0    0  ...        0      0   \n",
       "\n",
       "   28x21  28x22  28x23  28x24  28x25  28x26  28x27  28x28  \n",
       "0      0      0      0      0      0      0      0      0  \n",
       "1      0      0      0      0      0      0      0      0  \n",
       "2      0      0      0      0      0      0      0      0  \n",
       "3      0      0      0      0      0      0      0      0  \n",
       "4      0      0      0      0      0      0      0      0  \n",
       "\n",
       "[5 rows x 785 columns]"
      ]
     },
     "execution_count": 6,
     "metadata": {},
     "output_type": "execute_result"
    }
   ],
   "source": [
    "df_test=pd.read_csv(\"mnist_test.csv\")\n",
    "df_test.head(5)"
   ]
  },
  {
   "cell_type": "code",
   "execution_count": 7,
   "metadata": {},
   "outputs": [
    {
     "data": {
      "text/plain": [
       "(10000, 785)"
      ]
     },
     "execution_count": 7,
     "metadata": {},
     "output_type": "execute_result"
    }
   ],
   "source": [
    "df_test.shape"
   ]
  },
  {
   "cell_type": "code",
   "execution_count": 8,
   "metadata": {},
   "outputs": [
    {
     "name": "stdout",
     "output_type": "stream",
     "text": [
      "(10000, 784)\n",
      "(10000,)\n"
     ]
    }
   ],
   "source": [
    "x_test=df_test.drop(\"label\",axis=1)\n",
    "y_test=df_test[\"label\"]\n",
    "print(x_test.shape)\n",
    "print(y_test.shape)"
   ]
  },
  {
   "cell_type": "code",
   "execution_count": 9,
   "metadata": {},
   "outputs": [],
   "source": [
    "# one-hot encode target column\n",
    "y_train = to_categorical(y_train)\n",
    "y_test = to_categorical(y_test)"
   ]
  },
  {
   "cell_type": "code",
   "execution_count": 10,
   "metadata": {},
   "outputs": [
    {
     "name": "stdout",
     "output_type": "stream",
     "text": [
      "_________________________________________________________________\n",
      "Layer (type)                 Output Shape              Param #   \n",
      "=================================================================\n",
      "dense_1 (Dense)              (None, 12)                9420      \n",
      "_________________________________________________________________\n",
      "dense_2 (Dense)              (None, 8)                 104       \n",
      "_________________________________________________________________\n",
      "dense_3 (Dense)              (None, 10)                90        \n",
      "=================================================================\n",
      "Total params: 9,614\n",
      "Trainable params: 9,614\n",
      "Non-trainable params: 0\n",
      "_________________________________________________________________\n"
     ]
    }
   ],
   "source": [
    "# create model\n",
    "model = Sequential()     # defining a simple multilayer Perceptron model\n",
    "\n",
    "# This line adds the input layer and one hidden layer to our neural network\n",
    "model.add(Dense(units=12, input_dim=784, activation='relu', kernel_initializer='uniform'))\n",
    "\n",
    "# The line creates and adds another hidden layer to the model with 8 nodes and ‘rectifier’ activation function and uniform distribution of weights.\n",
    "# More layers can be added depending on the problem and its complexity.\n",
    "model.add(Dense(units=8, activation='relu', kernel_initializer='uniform'))\n",
    "\n",
    "# 10 is the number of nodes in the output layer. Here we have a single output layer.\n",
    "# Sigmoid or softmax are the commonly used activation functions for an output layer.\n",
    "model.add(Dense(units=10, activation='sigmoid', kernel_initializer='uniform'))\n",
    "\n",
    "model.summary()"
   ]
  },
  {
   "cell_type": "markdown",
   "metadata": {},
   "source": [
    "The summary is textual and includes information about:\n",
    "\n",
    "1. The layers and their order in the model.\n",
    "2. The output shape of each layer.\n",
    "3. The number of parameters (weights) in each layer.\n",
    "4. The total number of parameters (weights) in the model."
   ]
  },
  {
   "cell_type": "markdown",
   "metadata": {},
   "source": [
    "1. Dense(): lets us create a densely connected neural network\n",
    "2. input_dim : shape or number of nodes in the input layer\n",
    "3. units : the number of neurons or nodes in the current layer (hidden layer)\n",
    "4. activation : the activation function applied to each node.”relu” stands for Rectified Linear Unit\n",
    "5. kernel_initializer: initial random weights of the layer"
   ]
  },
  {
   "cell_type": "code",
   "execution_count": 11,
   "metadata": {},
   "outputs": [],
   "source": [
    "# Compile model\n",
    "model.compile(loss='binary_crossentropy', optimizer='adam', metrics=['accuracy'])"
   ]
  },
  {
   "cell_type": "markdown",
   "metadata": {},
   "source": [
    "The ANN needs to be compiled with an optimizer function and a loss function before being trained.\n",
    "\n",
    "Optimizer: an optimizer function for the network, There are several types of optimizers and the choice depends on the nature of the problem\n",
    "\n",
    "Loss: used for calculating the losses and errors.There are several types and the choice depends on the nature of the problem.\n",
    "\n",
    "Metrics: the metric used to measure the accuracy of the model.Types of metrics."
   ]
  },
  {
   "cell_type": "code",
   "execution_count": 12,
   "metadata": {},
   "outputs": [
    {
     "name": "stdout",
     "output_type": "stream",
     "text": [
      "Epoch 1/5\n",
      "60000/60000 [==============================] - 11s 177us/step - loss: 0.0848 - acc: 0.9713\n",
      "Epoch 2/5\n",
      "60000/60000 [==============================] - 10s 168us/step - loss: 0.0567 - acc: 0.9820\n",
      "Epoch 3/5\n",
      "60000/60000 [==============================] - 11s 177us/step - loss: 0.0529 - acc: 0.9832\n",
      "Epoch 4/5\n",
      "60000/60000 [==============================] - 11s 176us/step - loss: 0.0510 - acc: 0.9840\n",
      "Epoch 5/5\n",
      "60000/60000 [==============================] - 10s 169us/step - loss: 0.0493 - acc: 0.9845\n"
     ]
    },
    {
     "data": {
      "text/plain": [
       "<keras.callbacks.History at 0x20d1e069278>"
      ]
     },
     "execution_count": 12,
     "metadata": {},
     "output_type": "execute_result"
    }
   ],
   "source": [
    "# Fit the model\n",
    "model.fit(x_train, y_train, epochs=5, batch_size=10)"
   ]
  },
  {
   "cell_type": "markdown",
   "metadata": {},
   "source": [
    "x_train: The training data consisting of only the independent factors\n",
    "\n",
    "y_train: The training data consisting of only the dependent factors\n",
    "\n",
    "Batch_size: the weight is updated after training each batch of samples\n",
    "\n",
    "epochs: one epoch stands for one complete training of the neural network with all samples."
   ]
  },
  {
   "cell_type": "code",
   "execution_count": 13,
   "metadata": {},
   "outputs": [
    {
     "name": "stdout",
     "output_type": "stream",
     "text": [
      "10000/10000 [==============================] - 0s 37us/step\n",
      "Loss:  0.054 \n",
      "Accu:  0.983\n"
     ]
    }
   ],
   "source": [
    "# Evaluating the performance on the test set\n",
    "\n",
    "test_loss, test_acc = model.evaluate(x_test, y_test)\n",
    "print(\"Loss: \",test_loss.round(3),\"\\nAccu: \",test_acc.round(3))"
   ]
  },
  {
   "cell_type": "code",
   "execution_count": 14,
   "metadata": {},
   "outputs": [
    {
     "data": {
      "text/plain": [
       "array([[4.19134699e-10, 9.00026818e-04, 1.13013564e-04, 1.24342330e-02,\n",
       "        1.70730971e-07, 5.98614991e-10, 5.30464151e-24, 9.91269112e-01,\n",
       "        7.21563704e-21, 1.31749536e-03],\n",
       "       [4.25169965e-05, 1.05051638e-03, 9.97644126e-01, 1.18871313e-02,\n",
       "        9.22977463e-08, 6.94280956e-04, 1.17801432e-03, 2.81407498e-03,\n",
       "        6.91950409e-05, 1.29752320e-09],\n",
       "       [1.50320575e-05, 9.88891244e-01, 4.37959563e-03, 6.99297944e-03,\n",
       "        3.04533960e-03, 1.00583573e-04, 8.29424825e-04, 4.82107978e-03,\n",
       "        1.26024876e-02, 1.50235268e-04],\n",
       "       [9.99875546e-01, 2.35826075e-32, 1.70814310e-04, 2.60264846e-04,\n",
       "        4.31313265e-06, 1.84424076e-04, 1.19075982e-03, 4.41919568e-08,\n",
       "        9.87942670e-08, 2.15101845e-05]], dtype=float32)"
      ]
     },
     "execution_count": 14,
     "metadata": {},
     "output_type": "execute_result"
    }
   ],
   "source": [
    "#show predictions for the first 3 images in the test set\n",
    "preds=model.predict(x_test[:4])\n",
    "preds"
   ]
  },
  {
   "cell_type": "code",
   "execution_count": 15,
   "metadata": {},
   "outputs": [
    {
     "data": {
      "text/plain": [
       "array([7, 2, 1, 0], dtype=int64)"
      ]
     },
     "execution_count": 15,
     "metadata": {},
     "output_type": "execute_result"
    }
   ],
   "source": [
    "np.argmax(preds, axis=-1)"
   ]
  },
  {
   "cell_type": "code",
   "execution_count": 16,
   "metadata": {},
   "outputs": [
    {
     "data": {
      "text/plain": [
       "array([[0., 0., 0., 0., 0., 0., 0., 1., 0., 0.],\n",
       "       [0., 0., 1., 0., 0., 0., 0., 0., 0., 0.],\n",
       "       [0., 1., 0., 0., 0., 0., 0., 0., 0., 0.],\n",
       "       [1., 0., 0., 0., 0., 0., 0., 0., 0., 0.]], dtype=float32)"
      ]
     },
     "execution_count": 16,
     "metadata": {},
     "output_type": "execute_result"
    }
   ],
   "source": [
    "#show actual results for the first 3 images in the test set\n",
    "y_test[:4]"
   ]
  },
  {
   "cell_type": "code",
   "execution_count": 17,
   "metadata": {},
   "outputs": [
    {
     "data": {
      "text/plain": [
       "array([7, 2, 1, 0], dtype=int64)"
      ]
     },
     "execution_count": 17,
     "metadata": {},
     "output_type": "execute_result"
    }
   ],
   "source": [
    "np.argmax(y_test[:4], axis=-1)"
   ]
  },
  {
   "cell_type": "markdown",
   "metadata": {},
   "source": [
    "# Visualize Model"
   ]
  },
  {
   "cell_type": "markdown",
   "metadata": {},
   "source": [
    "The code below shows how we can iterate through the model layers and see the configuration"
   ]
  },
  {
   "cell_type": "code",
   "execution_count": 18,
   "metadata": {},
   "outputs": [
    {
     "data": {
      "text/plain": [
       "[<keras.layers.core.Dense at 0x20d1ff94dd8>,\n",
       " <keras.layers.core.Dense at 0x20d1ff94e80>,\n",
       " <keras.layers.core.Dense at 0x20d1ff89ac8>]"
      ]
     },
     "execution_count": 18,
     "metadata": {},
     "output_type": "execute_result"
    }
   ],
   "source": [
    "model.layers"
   ]
  },
  {
   "cell_type": "code",
   "execution_count": 19,
   "metadata": {},
   "outputs": [
    {
     "name": "stdout",
     "output_type": "stream",
     "text": [
      "dense_1 True\n",
      "dense_2 True\n",
      "dense_3 True\n"
     ]
    }
   ],
   "source": [
    "for layer in model.layers:\n",
    "    print(layer.name, layer.trainable)"
   ]
  },
  {
   "cell_type": "code",
   "execution_count": 20,
   "metadata": {},
   "outputs": [
    {
     "name": "stdout",
     "output_type": "stream",
     "text": [
      "Layer Configuration:\n",
      "{'units': 12, 'bias_regularizer': None, 'activation': 'relu', 'kernel_constraint': None, 'kernel_regularizer': None, 'activity_regularizer': None, 'trainable': True, 'dtype': 'float32', 'use_bias': True, 'kernel_initializer': {'class_name': 'RandomUniform', 'config': {'maxval': 0.05, 'minval': -0.05, 'seed': None}}, 'name': 'dense_1', 'bias_initializer': {'class_name': 'Zeros', 'config': {}}, 'bias_constraint': None, 'batch_input_shape': (None, 784)} \n",
      " ------------------------------------------------------------------------------------------------------------------------\n",
      "Layer Configuration:\n",
      "{'units': 8, 'bias_regularizer': None, 'activation': 'relu', 'activity_regularizer': None, 'kernel_regularizer': None, 'kernel_constraint': None, 'trainable': True, 'use_bias': True, 'kernel_initializer': {'class_name': 'RandomUniform', 'config': {'maxval': 0.05, 'minval': -0.05, 'seed': None}}, 'bias_initializer': {'class_name': 'Zeros', 'config': {}}, 'bias_constraint': None, 'name': 'dense_2'} \n",
      " ------------------------------------------------------------------------------------------------------------------------\n",
      "Layer Configuration:\n",
      "{'units': 10, 'bias_regularizer': None, 'activation': 'sigmoid', 'activity_regularizer': None, 'kernel_regularizer': None, 'kernel_constraint': None, 'trainable': True, 'use_bias': True, 'kernel_initializer': {'class_name': 'RandomUniform', 'config': {'maxval': 0.05, 'minval': -0.05, 'seed': None}}, 'bias_initializer': {'class_name': 'Zeros', 'config': {}}, 'bias_constraint': None, 'name': 'dense_3'} \n",
      " ------------------------------------------------------------------------------------------------------------------------\n"
     ]
    }
   ],
   "source": [
    "for layer in model.layers:\n",
    "    print('Layer Configuration:')\n",
    "    #print(layer.get_config(), end='\\n{}\\n'.format('----'*10))\n",
    "    print(layer.get_config(),\"\\n\",\"------\"*20)"
   ]
  },
  {
   "cell_type": "markdown",
   "metadata": {},
   "source": [
    "The weights of each layer can be obtained using"
   ]
  },
  {
   "cell_type": "code",
   "execution_count": 39,
   "metadata": {},
   "outputs": [
    {
     "name": "stdout",
     "output_type": "stream",
     "text": [
      "For Layer  dense_1  weights are\n",
      "[array([[-0.03157324, -0.00558132,  0.03570089, ..., -0.01371922,\n",
      "         0.02500014,  0.02128572],\n",
      "       [ 0.02687689, -0.01039662,  0.02014652, ..., -0.04938053,\n",
      "         0.00117947,  0.00714074],\n",
      "       [ 0.04723004,  0.02332428,  0.00620415, ..., -0.01387421,\n",
      "         0.00124301, -0.040532  ],\n",
      "       ...,\n",
      "       [ 0.04992279, -0.04460958,  0.02515122, ...,  0.03971261,\n",
      "        -0.02395616, -0.02456247],\n",
      "       [-0.03703653,  0.02871797,  0.02416552, ...,  0.02775165,\n",
      "         0.01417452,  0.01150619],\n",
      "       [-0.01844318,  0.00151753,  0.04875398, ...,  0.02843397,\n",
      "        -0.02688692,  0.02456678]], dtype=float32), array([-8.8118845e-01,  6.4931285e-01,  3.7782690e-01, -1.3814161e-02,\n",
      "        5.5828547e-01, -2.6360935e-02,  2.8399107e-01,  2.8916079e-01,\n",
      "        4.4208211e-01,  1.2822457e-01,  1.7958988e-01, -4.9260719e-04],\n",
      "      dtype=float32)]\n",
      "\n",
      "784    12\n",
      "------------------------------------------------------------------------------------------------------------------------\n",
      "For Layer  dense_2  weights are\n",
      "[array([[-3.7084512e-02,  4.3119520e-02, -1.2527062e-01, -4.8618194e-02,\n",
      "         2.6830130e-03,  2.5817538e-02,  9.1015100e-03,  2.5213515e-02],\n",
      "       [-1.5326090e-02, -1.3441437e-02,  5.1813230e-02, -9.0711221e-02,\n",
      "         7.6328270e-02,  4.0687222e-02,  9.3834415e-02, -8.2945801e-02],\n",
      "       [-4.5284379e-02,  4.2879064e-02,  9.4867140e-02, -1.0307022e-02,\n",
      "        -2.7322980e-02,  7.0064567e-02,  6.7285135e-02,  4.4222545e-02],\n",
      "       [-3.1986527e-02, -2.4046872e-02, -2.6125027e-04, -4.0989034e-02,\n",
      "        -1.2789784e-02, -3.6030542e-02, -2.8202605e-02, -7.4970359e-03],\n",
      "       [-3.6239348e-02,  6.0972124e-02,  4.8459768e-02, -4.4606473e-02,\n",
      "         1.5511316e-02, -1.0302134e-01,  4.1301217e-02,  1.7048772e-03],\n",
      "       [ 3.4385171e-02,  1.8294412e-03, -3.9052479e-02, -1.0733306e-02,\n",
      "         1.0423607e-03,  1.7386770e-02, -6.4741233e-03, -3.9566092e-02],\n",
      "       [-8.2491590e-03, -9.1812216e-02, -3.2840930e-02, -1.0208971e-01,\n",
      "         4.1855559e-02, -1.4991617e-01,  3.5097986e-02,  1.1286836e-01],\n",
      "       [-5.3382805e-03, -7.9124130e-02, -1.1457605e-03, -1.5320995e-01,\n",
      "         1.7301023e-01, -9.2192367e-02, -1.1988349e-01, -2.5839178e-02],\n",
      "       [-4.3452948e-02, -2.8545108e-02,  4.0751934e-02,  7.4439980e-02,\n",
      "        -7.5697666e-03,  7.3901400e-02,  1.9994596e-02,  8.1670664e-02],\n",
      "       [-1.6365685e-02,  1.3700163e-01,  8.0007583e-02, -1.0112098e-01,\n",
      "         4.9480192e-02, -2.1634667e-01, -2.7611284e-02,  4.8634995e-02],\n",
      "       [-4.3778300e-02,  6.9601582e-03, -2.7854609e-01, -3.1809129e-02,\n",
      "         7.0494376e-02,  9.6264109e-02, -2.4668494e-02,  2.2429468e-02],\n",
      "       [-7.0221052e-03, -8.5763149e-02, -4.0754218e-02,  9.4008096e-02,\n",
      "        -9.3998257e-03, -1.7110454e-01, -2.3867363e-02, -1.5171671e-02]],\n",
      "      dtype=float32), array([-0.01111524,  0.70321774,  0.6510899 ,  1.946275  ,  1.614064  ,\n",
      "        0.42342508,  0.5570351 ,  0.86645037], dtype=float32)]\n",
      "\n",
      "12    8\n",
      "------------------------------------------------------------------------------------------------------------------------\n",
      "For Layer  dense_3  weights are\n",
      "[array([[-5.33940829e-02,  3.48289311e-02,  1.12408707e-02,\n",
      "        -3.93977202e-03, -3.80964726e-02,  1.35993436e-02,\n",
      "         1.54601177e-02,  2.59988923e-02, -3.81527320e-02,\n",
      "         2.10535321e-02],\n",
      "       [-5.40800132e-02, -3.01146116e-02, -7.51128644e-02,\n",
      "         4.39943969e-02, -1.47013158e-01,  5.79254748e-03,\n",
      "        -1.57584697e-01, -3.13681960e-02,  2.88399104e-02,\n",
      "         4.49193493e-02],\n",
      "       [-2.20245067e-02, -6.62127882e-02, -2.32143663e-02,\n",
      "        -7.65956566e-02,  1.82337984e-02,  6.06312826e-02,\n",
      "         6.61923438e-02,  8.27411190e-03, -5.13256155e-02,\n",
      "        -6.17294200e-02],\n",
      "       [ 6.22757524e-02, -4.71035749e-01, -4.97070737e-02,\n",
      "        -4.77282181e-02, -7.52656087e-02, -5.22486046e-02,\n",
      "        -3.77804860e-02, -1.06974088e-01, -1.00015432e-01,\n",
      "        -6.51123151e-02],\n",
      "       [-7.27575719e-02, -2.25076992e-02, -2.60188542e-02,\n",
      "        -1.85896680e-02, -3.36276777e-02, -8.01729709e-02,\n",
      "        -1.88950285e-01,  2.60970592e-02, -1.79774269e-01,\n",
      "        -1.91320423e-02],\n",
      "       [-7.89874494e-02,  9.57951322e-02, -4.77496162e-02,\n",
      "        -6.38616830e-02,  3.39785367e-02, -7.54136592e-02,\n",
      "         6.69212788e-02, -6.93740994e-02,  6.23594709e-02,\n",
      "        -6.99259192e-02],\n",
      "       [ 1.00648049e-02, -1.83609262e-01, -1.72662723e-03,\n",
      "        -6.43248409e-02,  4.38991114e-02, -2.47888081e-02,\n",
      "        -6.82910532e-02, -4.40285951e-02,  3.24116163e-02,\n",
      "         5.00031486e-02],\n",
      "       [-5.50027564e-02,  2.06453633e-02,  5.89460358e-02,\n",
      "         3.01761989e-04, -1.18609115e-01, -2.09584516e-02,\n",
      "         2.65475884e-02, -3.08649223e-02, -3.05843428e-02,\n",
      "        -1.55744180e-01]], dtype=float32), array([-0.54945964, -0.6604263 , -1.0594604 , -0.9414156 , -0.82288   ,\n",
      "       -0.5934145 , -0.94386566, -0.5459074 , -0.8075026 , -0.77152187],\n",
      "      dtype=float32)]\n",
      "\n",
      "8    10\n",
      "------------------------------------------------------------------------------------------------------------------------\n"
     ]
    }
   ],
   "source": [
    "for i in range(len(model.layers)):\n",
    "    print(\"For Layer \",model.layers[i].name,\" weights are\")\n",
    "    print(model.layers[i].get_weights())\n",
    "    print()\n",
    "    print(len(model.layers[i].get_weights()[0]),\"  \",len(model.layers[i].get_weights()[1]))\n",
    "    print(\"----\"*30)"
   ]
  },
  {
   "cell_type": "markdown",
   "metadata": {},
   "source": [
    "Keras also provides a function to create a plot of the network neural network graph that can make more complex models easier to understand.\n",
    "\n",
    "The plot_model() function in Keras will create a plot of your network. This function takes a few useful arguments:\n",
    "1. model: (required) The model that you wish to plot.\n",
    "2. to_file: (required) The name of the file to which to save the plot.\n",
    "3. show_shapes: (optional, defaults to False) Whether or not to show the output shapes of each layer.\n",
    "4. show_layer_names: (optional, defaults to True) Whether or not to show the name for each layer.\n",
    "\n",
    "Example : plot_model(model, to_file='model_plot.png', show_shapes=True, show_layer_names=True)"
   ]
  },
  {
   "cell_type": "code",
   "execution_count": 46,
   "metadata": {},
   "outputs": [
    {
     "data": {
      "image/png": "[encoded data removed]",
      "text/plain": [
       "<Figure size 720x864 with 1 Axes>"
      ]
     },
     "metadata": {},
     "output_type": "display_data"
    }
   ],
   "source": [
    "from keras.utils.vis_utils import plot_model\n",
    "import pydot\n",
    "\n",
    "plot_model(model, to_file='DigitRecognitionWithANN.png', show_shapes=True, show_layer_names=True)\n",
    "\n",
    "# Python program to read  \n",
    "# image using matplotlib \n",
    "  \n",
    "# importing matplotlib modules \n",
    "import matplotlib.image as mpimg \n",
    "import matplotlib.pyplot as plt \n",
    "  \n",
    "# Read Images \n",
    "img = mpimg.imread('DigitRecognitionWithANN.png') \n",
    "\n",
    "# increasing the size of image\n",
    "plt.figure(figsize=(10,12))\n",
    "\n",
    "# Output Images\n",
    "plt.imshow(img)\n",
    "\n",
    "# for deleting the png file\n",
    "import os\n",
    "try: \n",
    "    os.remove(\"DigitRecognitionWithANN.png\")\n",
    "except: \n",
    "    print(\"Not Removed\")"
   ]
  },
  {
   "cell_type": "markdown",
   "metadata": {},
   "source": [
    "It is good to always create a summary and a plot of your neural network model in Keras so that we can:-\n",
    "1. Confirm layer order. It is easy to add layers in the wrong order with the sequential API or to connect them together incorrectly with the functional API. The graph plot can help you confirm that the model is connected the way you intended.\n",
    "2. Confirm the output shape of each layer. It is common to have problems when defining the shape of input data for complex networks like convolutional and recurrent neural networks. The summary and plot can help you confirm the input shape to the network is as you intended.\n",
    "3. Confirm parameters. Some network configurations can use far fewer parameters, such as the use of a TimeDistributed wrapped Dense layer in an Encoder-Decoder recurrent neural network. Reviewing the summary can help spot cases of using far more parameters than expected."
   ]
  },
  {
   "cell_type": "code",
   "execution_count": 47,
   "metadata": {},
   "outputs": [
    {
     "data": {
      "image/png": "[encoded data removed]",
      "text/plain": [
       "<Figure size 720x864 with 1 Axes>"
      ]
     },
     "metadata": {},
     "output_type": "display_data"
    }
   ],
   "source": [
    "# sample example\n",
    "\n",
    "model1 = Sequential()\n",
    "model1.add(Dense(2, input_dim=1, activation='relu'))\n",
    "model1.add(Dense(1, activation='sigmoid'))\n",
    "plot_model(model1, to_file='model_plot.png', show_shapes=True, show_layer_names=True)\n",
    "\n",
    "# Read Images \n",
    "img = mpimg.imread('model_plot.png') \n",
    "\n",
    "# increasing the size of image\n",
    "plt.figure(figsize=(10,12))\n",
    "\n",
    "# Output Images\n",
    "plt.imshow(img)\n",
    "\n",
    "\n",
    "# for deleting the png file\n",
    "import os\n",
    "try: \n",
    "    os.remove(\"model_plot.png\")\n",
    "except: \n",
    "    print(\"Not Removed\")"
   ]
  },
  {
   "cell_type": "code",
   "execution_count": null,
   "metadata": {},
   "outputs": [],
   "source": []
  }
 ],
 "metadata": {
  "kernelspec": {
   "display_name": "Python 3",
   "language": "python",
   "name": "python3"
  },
  "language_info": {
   "codemirror_mode": {
    "name": "ipython",
    "version": 3
   },
   "file_extension": ".py",
   "mimetype": "text/x-python",
   "name": "python",
   "nbconvert_exporter": "python",
   "pygments_lexer": "ipython3",
   "version": "3.5.5"
  }
 },
 "nbformat": 4,
 "nbformat_minor": 2
}
